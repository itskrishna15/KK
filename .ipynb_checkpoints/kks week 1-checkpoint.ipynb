{
 "cells": [
  {
   "cell_type": "code",
   "execution_count": 1,
   "metadata": {},
   "outputs": [
    {
     "name": "stdout",
     "output_type": "stream",
     "text": [
      "hello world\n"
     ]
    }
   ],
   "source": [
    "print(\"hello world\")"
   ]
  },
  {
   "cell_type": "code",
   "execution_count": 2,
   "metadata": {},
   "outputs": [
    {
     "name": "stdout",
     "output_type": "stream",
     "text": [
      "I am the winner succes follows me\n"
     ]
    }
   ],
   "source": [
    "print('I am the winner succes follows me')"
   ]
  },
  {
   "cell_type": "code",
   "execution_count": 3,
   "metadata": {},
   "outputs": [
    {
     "name": "stdout",
     "output_type": "stream",
     "text": [
      "*\n",
      "**\n",
      "***\n",
      "****\n",
      "*****\n",
      "******\n"
     ]
    }
   ],
   "source": [
    "print(\"*\")\n",
    "print(\"**\")\n",
    "print(\"***\")\n",
    "print(\"****\")\n",
    "print(\"*****\")\n",
    "print(\"******\")"
   ]
  },
  {
   "cell_type": "code",
   "execution_count": 4,
   "metadata": {},
   "outputs": [
    {
     "name": "stdout",
     "output_type": "stream",
     "text": [
      "hello world hello python students hello everyone\n"
     ]
    }
   ],
   "source": [
    "print(\"hello world\",\"hello python students\",\"hello everyone\")\n"
   ]
  },
  {
   "cell_type": "code",
   "execution_count": 5,
   "metadata": {},
   "outputs": [
    {
     "name": "stdout",
     "output_type": "stream",
     "text": [
      "enter a number by user:-\n",
      "enter the no.60\n",
      "70\n"
     ]
    }
   ],
   "source": [
    "print(\"enter a number by user:-\")\n",
    "n=int(input(\"enter the no.\"))\n",
    "n=n+10\n",
    "print(n)"
   ]
  },
  {
   "cell_type": "code",
   "execution_count": 6,
   "metadata": {},
   "outputs": [
    {
     "name": "stdout",
     "output_type": "stream",
     "text": [
      "enter your name\n",
      "type your name in given space:-kks\n",
      "hello kks how are you whatsap\n"
     ]
    }
   ],
   "source": [
    "print(\"enter your name\")\n",
    "p=input(\"type your name in given space:-\")\n",
    "print(\"hello\",p,\"how are you whatsap\")"
   ]
  },
  {
   "cell_type": "code",
   "execution_count": 7,
   "metadata": {},
   "outputs": [
    {
     "name": "stdout",
     "output_type": "stream",
     "text": [
      "enter your name:kks\n",
      "enter yor location:wb\n",
      "hello kks how is the weather in wb\n",
      "enter your age:5\n",
      "good to know that you are 5 year old\n"
     ]
    }
   ],
   "source": [
    "a=input(\"enter your name:\")\n",
    "b=input(\"enter yor location:\")\n",
    "print(\"hello\",a,\"how is the weather in\",b)\n",
    "c=int(input(\"enter your age:\"))\n",
    "print(\"good to know that you are\",c,\"year old\")"
   ]
  },
  {
   "cell_type": "code",
   "execution_count": 8,
   "metadata": {},
   "outputs": [
    {
     "name": "stdout",
     "output_type": "stream",
     "text": [
      "exponential 216\n"
     ]
    }
   ],
   "source": [
    "print(\"exponential\",6**3)"
   ]
  },
  {
   "cell_type": "code",
   "execution_count": 4,
   "metadata": {},
   "outputs": [
    {
     "name": "stdout",
     "output_type": "stream",
     "text": [
      "5\n",
      "hi\n",
      "hihihihihihi\n"
     ]
    }
   ],
   "source": [
    "n=int(input())\n",
    "w=str(input())\n",
    "c=(n+1)*w\n",
    "print(c)"
   ]
  },
  {
   "cell_type": "code",
   "execution_count": 10,
   "metadata": {},
   "outputs": [
    {
     "name": "stdout",
     "output_type": "stream",
     "text": [
      "678910\n",
      "1\n"
     ]
    }
   ],
   "source": [
    "n=str(input())\n",
    "a=int(n[0])\n",
    "b=int(n[1])\n",
    "c=int(n[2])\n",
    "d=int(n[3])\n",
    "e=int(n[4])\n",
    "f=int(n[5])\n",
    "diff=(b+d+f)-(a+c+e)\n",
    "print(diff)"
   ]
  },
  {
   "cell_type": "code",
   "execution_count": 1,
   "metadata": {},
   "outputs": [
    {
     "name": "stdout",
     "output_type": "stream",
     "text": [
      "py---------thon\n"
     ]
    }
   ],
   "source": [
    "x='------------py---------thon------------'\n",
    "print(x.strip('-'))\n"
   ]
  },
  {
   "cell_type": "code",
   "execution_count": 4,
   "metadata": {},
   "outputs": [
    {
     "name": "stdout",
     "output_type": "stream",
     "text": [
      "1\n",
      "2\n",
      "3\n",
      "4\n",
      "5\n",
      "6\n",
      "7\n",
      "8\n",
      "9\n",
      "10\n"
     ]
    }
   ],
   "source": [
    "for i in range(1,11,1):\n",
    "    print(i)\n",
    "    "
   ]
  },
  {
   "cell_type": "code",
   "execution_count": 14,
   "metadata": {},
   "outputs": [
    {
     "name": "stdout",
     "output_type": "stream",
     "text": [
      "55\n"
     ]
    }
   ],
   "source": [
    "sum=0\n",
    "for i in range(1,11):\n",
    "    sum=sum+i\n",
    "print(sum)"
   ]
  },
  {
   "cell_type": "code",
   "execution_count": 16,
   "metadata": {},
   "outputs": [
    {
     "name": "stdout",
     "output_type": "stream",
     "text": [
      "enter the number:7\n",
      "1\n",
      "2\n",
      "3\n",
      "4\n",
      "5\n",
      "6\n",
      "7\n",
      "28\n"
     ]
    }
   ],
   "source": [
    "n=int(input(\"enter the number:\"))\n",
    "sum=0\n",
    "for i in range(1,n+1):\n",
    "    sum=sum+i\n",
    "    print(i)\n",
    "print(sum)"
   ]
  },
  {
   "cell_type": "code",
   "execution_count": 19,
   "metadata": {},
   "outputs": [
    {
     "name": "stdout",
     "output_type": "stream",
     "text": [
      "number given by user:1\n",
      "number given by user:2\n",
      "number given by user:3\n",
      "number given by user:4\n",
      "number given by user:5\n",
      "number given by user:6\n",
      "number given by user:7\n",
      "number given by user:8\n",
      "number given by user:9\n",
      "number given by user:10\n",
      "55\n"
     ]
    }
   ],
   "source": [
    "sum=0\n",
    "for i in range(1,11):\n",
    "    a=int(input(\"number given by user:\"))\n",
    "    sum=sum+a\n",
    "print(sum)"
   ]
  },
  {
   "cell_type": "code",
   "execution_count": 26,
   "metadata": {},
   "outputs": [
    {
     "name": "stdout",
     "output_type": "stream",
     "text": [
      "number given by user5\n",
      "cube of  1 = 1\n",
      "cube of  2 = 8\n",
      "cube of  3 = 27\n",
      "cube of  4 = 64\n",
      "cube of  5 = 125\n"
     ]
    }
   ],
   "source": [
    "cube=1\n",
    "n=int(input(\"number given by user\"))\n",
    "for i in range(1,n+1):\n",
    "    cube=i*i*i\n",
    "    print(\"cube of \",i,\"=\",cube)"
   ]
  },
  {
   "cell_type": "code",
   "execution_count": 28,
   "metadata": {},
   "outputs": [
    {
     "name": "stdout",
     "output_type": "stream",
     "text": [
      "number given by user15\n",
      "15\n",
      "30\n",
      "45\n",
      "60\n",
      "75\n",
      "90\n",
      "105\n",
      "120\n",
      "135\n",
      "150\n"
     ]
    }
   ],
   "source": [
    "n=int(input(\"number given by user\"))\n",
    "for i in range(1,11):\n",
    "    table=n*i\n",
    "    print(table)"
   ]
  },
  {
   "cell_type": "code",
   "execution_count": 37,
   "metadata": {},
   "outputs": [
    {
     "name": "stdout",
     "output_type": "stream",
     "text": [
      "enter the number10\n",
      "1\n",
      "3\n",
      "5\n",
      "7\n",
      "9\n",
      "sum of 9 odd numbrs= 25\n"
     ]
    }
   ],
   "source": [
    "n=int(input('enter the number'))\n",
    "if(n%2==0):\n",
    "    sum=0\n",
    "    for i in range(1,n,2):\n",
    "        sum=sum+i\n",
    "        print(i)\n",
    "if(n%2!=0):\n",
    "    sum=0\n",
    "    for i in range(1,n+1,2):\n",
    "        sum=sum+i\n",
    "        print(i)\n",
    "print(\"sum of\",i,\"odd numbrs=\",sum)\n",
    "        "
   ]
  },
  {
   "cell_type": "code",
   "execution_count": 42,
   "metadata": {},
   "outputs": [
    {
     "name": "stdout",
     "output_type": "stream",
     "text": [
      "enter the number9\n",
      "1\n",
      "3\n",
      "5\n",
      "7\n",
      "9\n",
      "sum of 9 odd numbrs= 25\n"
     ]
    }
   ],
   "source": [
    "n=int(input('enter the number'))\n",
    "sum=0\n",
    "for i in range(1,n+1,2):\n",
    "    sum=sum+i\n",
    "    print(i)\n",
    "print(\"sum of\",i,\"odd numbrs=\",sum)\n",
    "        "
   ]
  },
  {
   "cell_type": "code",
   "execution_count": 10,
   "metadata": {},
   "outputs": [
    {
     "name": "stdout",
     "output_type": "stream",
     "text": [
      "enter the number14\n",
      "1\n",
      "3\n",
      "5\n",
      "7\n",
      "9\n",
      "11\n",
      "13\n",
      "15\n",
      "17\n",
      "19\n",
      "21\n",
      "23\n",
      "25\n",
      "27\n",
      "sum of 14 odd numbrs= 196\n"
     ]
    }
   ],
   "source": [
    "n=int(input('enter the number'))\n",
    "sum=0\n",
    "for i in range (1,2*n,2):\n",
    "    print(i)\n",
    "    sum=sum+i\n",
    "print(\"sum of\",n,\"odd numbrs=\",sum)\n"
   ]
  },
  {
   "cell_type": "code",
   "execution_count": 8,
   "metadata": {},
   "outputs": [
    {
     "name": "stdout",
     "output_type": "stream",
     "text": [
      "*\n",
      "*\n",
      "*\n"
     ]
    }
   ],
   "source": [
    "for i in range(1,5):\n",
    "    for j in range()"
   ]
  },
  {
   "cell_type": "code",
   "execution_count": 2,
   "metadata": {},
   "outputs": [
    {
     "name": "stdout",
     "output_type": "stream",
     "text": [
      "enter the number:5\n",
      "120\n"
     ]
    }
   ],
   "source": [
    "n=int(input(\"enter the number:\"))\n",
    "fact=1\n",
    "for i in range(1,n+1):\n",
    "    fact=fact*i\n",
    "print(fact)"
   ]
  },
  {
   "cell_type": "code",
   "execution_count": null,
   "metadata": {},
   "outputs": [],
   "source": [
    "#kshitij kumar sharma"
   ]
  }
 ],
 "metadata": {
  "kernelspec": {
   "display_name": "Python 3",
   "language": "python",
   "name": "python3"
  },
  "language_info": {
   "codemirror_mode": {
    "name": "ipython",
    "version": 3
   },
   "file_extension": ".py",
   "mimetype": "text/x-python",
   "name": "python",
   "nbconvert_exporter": "python",
   "pygments_lexer": "ipython3",
   "version": "3.7.6"
  }
 },
 "nbformat": 4,
 "nbformat_minor": 4
}
